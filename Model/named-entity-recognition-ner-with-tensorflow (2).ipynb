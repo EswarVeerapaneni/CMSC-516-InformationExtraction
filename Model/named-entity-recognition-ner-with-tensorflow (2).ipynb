{
 "cells": [
  {
   "cell_type": "code",
   "execution_count": 1,
   "metadata": {
    "execution": {
     "iopub.execute_input": "2022-01-15T16:28:01.937999Z",
     "iopub.status.busy": "2022-01-15T16:28:01.937479Z",
     "iopub.status.idle": "2022-01-15T16:28:06.525904Z",
     "shell.execute_reply": "2022-01-15T16:28:06.525195Z",
     "shell.execute_reply.started": "2022-01-15T16:28:01.937965Z"
    }
   },
   "outputs": [],
   "source": [
    "import numpy as np\n",
    "import pandas as pd\n",
    "import matplotlib.pyplot as plt\n",
    "import seaborn as sns\n",
    "import tensorflow as tf"
   ]
  },
  {
   "cell_type": "code",
   "execution_count": 2,
   "metadata": {
    "execution": {
     "iopub.execute_input": "2022-01-15T16:28:06.529836Z",
     "iopub.status.busy": "2022-01-15T16:28:06.529637Z",
     "iopub.status.idle": "2022-01-15T16:28:07.57241Z",
     "shell.execute_reply": "2022-01-15T16:28:07.571743Z",
     "shell.execute_reply.started": "2022-01-15T16:28:06.529812Z"
    }
   },
   "outputs": [
    {
     "data": {
      "text/html": [
       "<div>\n",
       "<style scoped>\n",
       "    .dataframe tbody tr th:only-of-type {\n",
       "        vertical-align: middle;\n",
       "    }\n",
       "\n",
       "    .dataframe tbody tr th {\n",
       "        vertical-align: top;\n",
       "    }\n",
       "\n",
       "    .dataframe thead th {\n",
       "        text-align: right;\n",
       "    }\n",
       "</style>\n",
       "<table border=\"1\" class=\"dataframe\">\n",
       "  <thead>\n",
       "    <tr style=\"text-align: right;\">\n",
       "      <th></th>\n",
       "      <th>Sentence #</th>\n",
       "      <th>Word</th>\n",
       "      <th>POS</th>\n",
       "      <th>Tag</th>\n",
       "    </tr>\n",
       "  </thead>\n",
       "  <tbody>\n",
       "    <tr>\n",
       "      <th>0</th>\n",
       "      <td>Sentence: 1</td>\n",
       "      <td>Thousands</td>\n",
       "      <td>NNS</td>\n",
       "      <td>O</td>\n",
       "    </tr>\n",
       "    <tr>\n",
       "      <th>1</th>\n",
       "      <td>Sentence: 1</td>\n",
       "      <td>of</td>\n",
       "      <td>IN</td>\n",
       "      <td>O</td>\n",
       "    </tr>\n",
       "    <tr>\n",
       "      <th>2</th>\n",
       "      <td>Sentence: 1</td>\n",
       "      <td>demonstrators</td>\n",
       "      <td>NNS</td>\n",
       "      <td>O</td>\n",
       "    </tr>\n",
       "    <tr>\n",
       "      <th>3</th>\n",
       "      <td>Sentence: 1</td>\n",
       "      <td>have</td>\n",
       "      <td>VBP</td>\n",
       "      <td>O</td>\n",
       "    </tr>\n",
       "    <tr>\n",
       "      <th>4</th>\n",
       "      <td>Sentence: 1</td>\n",
       "      <td>marched</td>\n",
       "      <td>VBN</td>\n",
       "      <td>O</td>\n",
       "    </tr>\n",
       "  </tbody>\n",
       "</table>\n",
       "</div>"
      ],
      "text/plain": [
       "    Sentence #           Word  POS Tag\n",
       "0  Sentence: 1      Thousands  NNS   O\n",
       "1  Sentence: 1             of   IN   O\n",
       "2  Sentence: 1  demonstrators  NNS   O\n",
       "3  Sentence: 1           have  VBP   O\n",
       "4  Sentence: 1        marched  VBN   O"
      ]
     },
     "execution_count": 2,
     "metadata": {},
     "output_type": "execute_result"
    }
   ],
   "source": [
    "data_path = \"ner_dataset.csv\"\n",
    "data = pd.read_csv(data_path, encoding= 'unicode_escape')\n",
    "data.fillna(method = 'ffill', inplace = True)\n",
    "data.head()"
   ]
  },
  {
   "cell_type": "code",
   "execution_count": 3,
   "metadata": {
    "execution": {
     "iopub.execute_input": "2022-01-15T16:28:07.573879Z",
     "iopub.status.busy": "2022-01-15T16:28:07.573587Z",
     "iopub.status.idle": "2022-01-15T16:28:08.023774Z",
     "shell.execute_reply": "2022-01-15T16:28:08.023123Z",
     "shell.execute_reply.started": "2022-01-15T16:28:07.573812Z"
    }
   },
   "outputs": [
    {
     "name": "stderr",
     "output_type": "stream",
     "text": [
      "C:\\Users\\Eswar's Dell\\AppData\\Local\\Temp\\ipykernel_19024\\3237404623.py:2: FutureWarning: The error_bad_lines argument has been deprecated and will be removed in a future version. Use on_bad_lines in the future.\n",
      "\n",
      "\n",
      "  ready_data = pd.read_csv(ready_dist_path, encoding='unicode_escape', error_bad_lines=False)\n"
     ]
    },
    {
     "data": {
      "text/html": [
       "<div>\n",
       "<style scoped>\n",
       "    .dataframe tbody tr th:only-of-type {\n",
       "        vertical-align: middle;\n",
       "    }\n",
       "\n",
       "    .dataframe tbody tr th {\n",
       "        vertical-align: top;\n",
       "    }\n",
       "\n",
       "    .dataframe thead th {\n",
       "        text-align: right;\n",
       "    }\n",
       "</style>\n",
       "<table border=\"1\" class=\"dataframe\">\n",
       "  <thead>\n",
       "    <tr style=\"text-align: right;\">\n",
       "      <th></th>\n",
       "      <th>Sentence #</th>\n",
       "      <th>Sentence</th>\n",
       "      <th>POS</th>\n",
       "      <th>Tag</th>\n",
       "    </tr>\n",
       "  </thead>\n",
       "  <tbody>\n",
       "    <tr>\n",
       "      <th>0</th>\n",
       "      <td>Sentence: 1</td>\n",
       "      <td>Thousands of demonstrators have marched throug...</td>\n",
       "      <td>['NNS', 'IN', 'NNS', 'VBP', 'VBN', 'IN', 'NNP'...</td>\n",
       "      <td>['O', 'O', 'O', 'O', 'O', 'O', 'B-geo', 'O', '...</td>\n",
       "    </tr>\n",
       "    <tr>\n",
       "      <th>1</th>\n",
       "      <td>Sentence: 2</td>\n",
       "      <td>Families of soldiers killed in the conflict jo...</td>\n",
       "      <td>['NNS', 'IN', 'NNS', 'VBN', 'IN', 'DT', 'NN', ...</td>\n",
       "      <td>['O', 'O', 'O', 'O', 'O', 'O', 'O', 'O', 'O', ...</td>\n",
       "    </tr>\n",
       "    <tr>\n",
       "      <th>2</th>\n",
       "      <td>Sentence: 3</td>\n",
       "      <td>They marched from the Houses of Parliament to ...</td>\n",
       "      <td>['PRP', 'VBD', 'IN', 'DT', 'NNS', 'IN', 'NN', ...</td>\n",
       "      <td>['O', 'O', 'O', 'O', 'O', 'O', 'O', 'O', 'O', ...</td>\n",
       "    </tr>\n",
       "    <tr>\n",
       "      <th>3</th>\n",
       "      <td>Sentence: 4</td>\n",
       "      <td>Police put the number of marchers at 10,000 wh...</td>\n",
       "      <td>['NNS', 'VBD', 'DT', 'NN', 'IN', 'NNS', 'IN', ...</td>\n",
       "      <td>['O', 'O', 'O', 'O', 'O', 'O', 'O', 'O', 'O', ...</td>\n",
       "    </tr>\n",
       "    <tr>\n",
       "      <th>4</th>\n",
       "      <td>Sentence: 5</td>\n",
       "      <td>The protest comes on the eve of the annual con...</td>\n",
       "      <td>['DT', 'NN', 'VBZ', 'IN', 'DT', 'NN', 'IN', 'D...</td>\n",
       "      <td>['O', 'O', 'O', 'O', 'O', 'O', 'O', 'O', 'O', ...</td>\n",
       "    </tr>\n",
       "  </tbody>\n",
       "</table>\n",
       "</div>"
      ],
      "text/plain": [
       "    Sentence #                                           Sentence  \\\n",
       "0  Sentence: 1  Thousands of demonstrators have marched throug...   \n",
       "1  Sentence: 2  Families of soldiers killed in the conflict jo...   \n",
       "2  Sentence: 3  They marched from the Houses of Parliament to ...   \n",
       "3  Sentence: 4  Police put the number of marchers at 10,000 wh...   \n",
       "4  Sentence: 5  The protest comes on the eve of the annual con...   \n",
       "\n",
       "                                                 POS  \\\n",
       "0  ['NNS', 'IN', 'NNS', 'VBP', 'VBN', 'IN', 'NNP'...   \n",
       "1  ['NNS', 'IN', 'NNS', 'VBN', 'IN', 'DT', 'NN', ...   \n",
       "2  ['PRP', 'VBD', 'IN', 'DT', 'NNS', 'IN', 'NN', ...   \n",
       "3  ['NNS', 'VBD', 'DT', 'NN', 'IN', 'NNS', 'IN', ...   \n",
       "4  ['DT', 'NN', 'VBZ', 'IN', 'DT', 'NN', 'IN', 'D...   \n",
       "\n",
       "                                                 Tag  \n",
       "0  ['O', 'O', 'O', 'O', 'O', 'O', 'B-geo', 'O', '...  \n",
       "1  ['O', 'O', 'O', 'O', 'O', 'O', 'O', 'O', 'O', ...  \n",
       "2  ['O', 'O', 'O', 'O', 'O', 'O', 'O', 'O', 'O', ...  \n",
       "3  ['O', 'O', 'O', 'O', 'O', 'O', 'O', 'O', 'O', ...  \n",
       "4  ['O', 'O', 'O', 'O', 'O', 'O', 'O', 'O', 'O', ...  "
      ]
     },
     "execution_count": 3,
     "metadata": {},
     "output_type": "execute_result"
    }
   ],
   "source": [
    "ready_dist_path = \"ner.csv\"\n",
    "ready_data = pd.read_csv(ready_dist_path, encoding='unicode_escape', error_bad_lines=False)\n",
    "ready_data.head()"
   ]
  },
  {
   "cell_type": "code",
   "execution_count": 4,
   "metadata": {
    "execution": {
     "iopub.execute_input": "2022-01-15T16:28:08.02621Z",
     "iopub.status.busy": "2022-01-15T16:28:08.02592Z",
     "iopub.status.idle": "2022-01-15T16:28:08.030961Z",
     "shell.execute_reply": "2022-01-15T16:28:08.030207Z",
     "shell.execute_reply.started": "2022-01-15T16:28:08.026162Z"
    }
   },
   "outputs": [],
   "source": [
    "def join_a_sentence(sentence_number):\n",
    "    \n",
    "    sentence_number = str(sentence_number)\n",
    "    the_sentence_words_list = list(data[data['Sentence #'] == 'Sentence: {}'.format(sentence_number)]['Word'])\n",
    "    \n",
    "    return ' '.join(the_sentence_words_list)"
   ]
  },
  {
   "cell_type": "code",
   "execution_count": 5,
   "metadata": {
    "execution": {
     "iopub.execute_input": "2022-01-15T16:28:08.275612Z",
     "iopub.status.busy": "2022-01-15T16:28:08.275247Z",
     "iopub.status.idle": "2022-01-15T16:28:08.40867Z",
     "shell.execute_reply": "2022-01-15T16:28:08.408031Z",
     "shell.execute_reply.started": "2022-01-15T16:28:08.275577Z"
    }
   },
   "outputs": [
    {
     "data": {
      "text/plain": [
       "'Thousands of demonstrators have marched through London to protest the war in Iraq and demand the withdrawal of British troops from that country .'"
      ]
     },
     "execution_count": 5,
     "metadata": {},
     "output_type": "execute_result"
    }
   ],
   "source": [
    "join_a_sentence(sentence_number = 1)"
   ]
  },
  {
   "cell_type": "code",
   "execution_count": 6,
   "metadata": {
    "execution": {
     "iopub.execute_input": "2022-01-15T16:28:08.410563Z",
     "iopub.status.busy": "2022-01-15T16:28:08.41011Z",
     "iopub.status.idle": "2022-01-15T16:28:08.416969Z",
     "shell.execute_reply": "2022-01-15T16:28:08.416335Z",
     "shell.execute_reply.started": "2022-01-15T16:28:08.410521Z"
    }
   },
   "outputs": [
    {
     "data": {
      "text/plain": [
       "(1048575, 4)"
      ]
     },
     "execution_count": 6,
     "metadata": {},
     "output_type": "execute_result"
    }
   ],
   "source": [
    "data.shape # Data Shape"
   ]
  },
  {
   "cell_type": "code",
   "execution_count": 7,
   "metadata": {
    "execution": {
     "iopub.execute_input": "2022-01-15T16:28:08.418809Z",
     "iopub.status.busy": "2022-01-15T16:28:08.418387Z",
     "iopub.status.idle": "2022-01-15T16:28:09.738051Z",
     "shell.execute_reply": "2022-01-15T16:28:09.7374Z",
     "shell.execute_reply.started": "2022-01-15T16:28:08.418772Z"
    }
   },
   "outputs": [
    {
     "data": {
      "text/plain": [
       "47959"
      ]
     },
     "execution_count": 7,
     "metadata": {},
     "output_type": "execute_result"
    }
   ],
   "source": [
    "len(np.unique(data['Sentence #'])) # Number of unique sentences"
   ]
  },
  {
   "cell_type": "code",
   "execution_count": 8,
   "metadata": {
    "execution": {
     "iopub.execute_input": "2022-01-15T16:28:09.739582Z",
     "iopub.status.busy": "2022-01-15T16:28:09.739321Z",
     "iopub.status.idle": "2022-01-15T16:28:09.933133Z",
     "shell.execute_reply": "2022-01-15T16:28:09.932371Z",
     "shell.execute_reply.started": "2022-01-15T16:28:09.739547Z"
    }
   },
   "outputs": [
    {
     "name": "stdout",
     "output_type": "stream",
     "text": [
      "Number of unique words in the dataset: 35178\n",
      "Number of unique tags in the dataset: 17\n"
     ]
    }
   ],
   "source": [
    "print(\"Number of unique words in the dataset: {}\".format(data.Word.nunique()))\n",
    "print(\"Number of unique tags in the dataset: {}\".format(data.Tag.nunique()))"
   ]
  },
  {
   "cell_type": "code",
   "execution_count": 9,
   "metadata": {
    "execution": {
     "iopub.execute_input": "2022-01-15T16:28:09.936576Z",
     "iopub.status.busy": "2022-01-15T16:28:09.935837Z",
     "iopub.status.idle": "2022-01-15T16:28:10.023376Z",
     "shell.execute_reply": "2022-01-15T16:28:10.022325Z",
     "shell.execute_reply.started": "2022-01-15T16:28:09.936533Z"
    }
   },
   "outputs": [
    {
     "data": {
      "text/plain": [
       "array(['O', 'B-geo', 'B-gpe', 'B-per', 'I-geo', 'B-org', 'I-org', 'B-tim',\n",
       "       'B-art', 'I-art', 'I-per', 'I-gpe', 'I-tim', 'B-nat', 'B-eve',\n",
       "       'I-eve', 'I-nat'], dtype=object)"
      ]
     },
     "execution_count": 9,
     "metadata": {},
     "output_type": "execute_result"
    }
   ],
   "source": [
    "tags = data.Tag.unique()\n",
    "tags"
   ]
  },
  {
   "cell_type": "code",
   "execution_count": 10,
   "metadata": {
    "execution": {
     "iopub.execute_input": "2022-01-15T16:28:10.028376Z",
     "iopub.status.busy": "2022-01-15T16:28:10.027975Z",
     "iopub.status.idle": "2022-01-15T16:28:10.035029Z",
     "shell.execute_reply": "2022-01-15T16:28:10.034126Z",
     "shell.execute_reply.started": "2022-01-15T16:28:10.028347Z"
    }
   },
   "outputs": [],
   "source": [
    "def num_words_tags (tags, data):\n",
    "    tags_count = {}\n",
    "    \n",
    "    for tag in tags:\n",
    "        len_tag = len(data[data['Tag'] == tag])\n",
    "        tags_count[tag] = len_tag\n",
    "    \n",
    "    return tags_count"
   ]
  },
  {
   "cell_type": "code",
   "execution_count": 11,
   "metadata": {
    "execution": {
     "iopub.execute_input": "2022-01-15T16:28:10.03688Z",
     "iopub.status.busy": "2022-01-15T16:28:10.036603Z",
     "iopub.status.idle": "2022-01-15T16:28:12.331067Z",
     "shell.execute_reply": "2022-01-15T16:28:12.330399Z",
     "shell.execute_reply.started": "2022-01-15T16:28:10.036827Z"
    }
   },
   "outputs": [
    {
     "data": {
      "text/plain": [
       "{'O': 887908,\n",
       " 'B-geo': 37644,\n",
       " 'B-gpe': 15870,\n",
       " 'B-per': 16990,\n",
       " 'I-geo': 7414,\n",
       " 'B-org': 20143,\n",
       " 'I-org': 16784,\n",
       " 'B-tim': 20333,\n",
       " 'B-art': 402,\n",
       " 'I-art': 297,\n",
       " 'I-per': 17251,\n",
       " 'I-gpe': 198,\n",
       " 'I-tim': 6528,\n",
       " 'B-nat': 201,\n",
       " 'B-eve': 308,\n",
       " 'I-eve': 253,\n",
       " 'I-nat': 51}"
      ]
     },
     "execution_count": 11,
     "metadata": {},
     "output_type": "execute_result"
    }
   ],
   "source": [
    "tags_count = num_words_tags(tags, data)\n",
    "tags_count"
   ]
  },
  {
   "cell_type": "code",
   "execution_count": 12,
   "metadata": {
    "execution": {
     "iopub.execute_input": "2022-01-15T16:28:12.332808Z",
     "iopub.status.busy": "2022-01-15T16:28:12.332398Z",
     "iopub.status.idle": "2022-01-15T16:28:13.70397Z",
     "shell.execute_reply": "2022-01-15T16:28:13.703314Z",
     "shell.execute_reply.started": "2022-01-15T16:28:12.332771Z"
    }
   },
   "outputs": [
    {
     "data": {
      "image/png": "[encoded data removed]",
      "text/plain": [
       "<Figure size 720x432 with 1 Axes>"
      ]
     },
     "metadata": {
      "needs_background": "light"
     },
     "output_type": "display_data"
    }
   ],
   "source": [
    "plt.figure(figsize = (10, 6))\n",
    "plt.hist(data.Tag, log = True, label = 'Tags', color = 'olive', bins = 50)\n",
    "plt.xlabel('Tags', fontsize = 16)\n",
    "plt.ylabel('Count', fontsize = 16)\n",
    "plt.title(\"Tags Frequency\", fontsize = 20)\n",
    "plt.grid(alpha=0.3)\n",
    "plt.legend()\n",
    "plt.xticks(fontsize=15)\n",
    "plt.yticks(fontsize=15)\n",
    "plt.xticks(rotation=90)\n",
    "plt.show()"
   ]
  },
  {
   "cell_type": "code",
   "execution_count": 13,
   "metadata": {
    "execution": {
     "iopub.execute_input": "2022-01-15T16:28:13.713855Z",
     "iopub.status.busy": "2022-01-15T16:28:13.713584Z",
     "iopub.status.idle": "2022-01-15T16:28:13.726969Z",
     "shell.execute_reply": "2022-01-15T16:28:13.726361Z",
     "shell.execute_reply.started": "2022-01-15T16:28:13.71379Z"
    }
   },
   "outputs": [
    {
     "data": {
      "text/html": [
       "<div>\n",
       "<style scoped>\n",
       "    .dataframe tbody tr th:only-of-type {\n",
       "        vertical-align: middle;\n",
       "    }\n",
       "\n",
       "    .dataframe tbody tr th {\n",
       "        vertical-align: top;\n",
       "    }\n",
       "\n",
       "    .dataframe thead th {\n",
       "        text-align: right;\n",
       "    }\n",
       "</style>\n",
       "<table border=\"1\" class=\"dataframe\">\n",
       "  <thead>\n",
       "    <tr style=\"text-align: right;\">\n",
       "      <th></th>\n",
       "      <th>Sentence #</th>\n",
       "      <th>Sentence</th>\n",
       "      <th>POS</th>\n",
       "      <th>Tag</th>\n",
       "    </tr>\n",
       "  </thead>\n",
       "  <tbody>\n",
       "    <tr>\n",
       "      <th>0</th>\n",
       "      <td>Sentence: 1</td>\n",
       "      <td>Thousands of demonstrators have marched throug...</td>\n",
       "      <td>['NNS', 'IN', 'NNS', 'VBP', 'VBN', 'IN', 'NNP'...</td>\n",
       "      <td>['O', 'O', 'O', 'O', 'O', 'O', 'B-geo', 'O', '...</td>\n",
       "    </tr>\n",
       "    <tr>\n",
       "      <th>1</th>\n",
       "      <td>Sentence: 2</td>\n",
       "      <td>Families of soldiers killed in the conflict jo...</td>\n",
       "      <td>['NNS', 'IN', 'NNS', 'VBN', 'IN', 'DT', 'NN', ...</td>\n",
       "      <td>['O', 'O', 'O', 'O', 'O', 'O', 'O', 'O', 'O', ...</td>\n",
       "    </tr>\n",
       "    <tr>\n",
       "      <th>2</th>\n",
       "      <td>Sentence: 3</td>\n",
       "      <td>They marched from the Houses of Parliament to ...</td>\n",
       "      <td>['PRP', 'VBD', 'IN', 'DT', 'NNS', 'IN', 'NN', ...</td>\n",
       "      <td>['O', 'O', 'O', 'O', 'O', 'O', 'O', 'O', 'O', ...</td>\n",
       "    </tr>\n",
       "    <tr>\n",
       "      <th>3</th>\n",
       "      <td>Sentence: 4</td>\n",
       "      <td>Police put the number of marchers at 10,000 wh...</td>\n",
       "      <td>['NNS', 'VBD', 'DT', 'NN', 'IN', 'NNS', 'IN', ...</td>\n",
       "      <td>['O', 'O', 'O', 'O', 'O', 'O', 'O', 'O', 'O', ...</td>\n",
       "    </tr>\n",
       "    <tr>\n",
       "      <th>4</th>\n",
       "      <td>Sentence: 5</td>\n",
       "      <td>The protest comes on the eve of the annual con...</td>\n",
       "      <td>['DT', 'NN', 'VBZ', 'IN', 'DT', 'NN', 'IN', 'D...</td>\n",
       "      <td>['O', 'O', 'O', 'O', 'O', 'O', 'O', 'O', 'O', ...</td>\n",
       "    </tr>\n",
       "  </tbody>\n",
       "</table>\n",
       "</div>"
      ],
      "text/plain": [
       "    Sentence #                                           Sentence  \\\n",
       "0  Sentence: 1  Thousands of demonstrators have marched throug...   \n",
       "1  Sentence: 2  Families of soldiers killed in the conflict jo...   \n",
       "2  Sentence: 3  They marched from the Houses of Parliament to ...   \n",
       "3  Sentence: 4  Police put the number of marchers at 10,000 wh...   \n",
       "4  Sentence: 5  The protest comes on the eve of the annual con...   \n",
       "\n",
       "                                                 POS  \\\n",
       "0  ['NNS', 'IN', 'NNS', 'VBP', 'VBN', 'IN', 'NNP'...   \n",
       "1  ['NNS', 'IN', 'NNS', 'VBN', 'IN', 'DT', 'NN', ...   \n",
       "2  ['PRP', 'VBD', 'IN', 'DT', 'NNS', 'IN', 'NN', ...   \n",
       "3  ['NNS', 'VBD', 'DT', 'NN', 'IN', 'NNS', 'IN', ...   \n",
       "4  ['DT', 'NN', 'VBZ', 'IN', 'DT', 'NN', 'IN', 'D...   \n",
       "\n",
       "                                                 Tag  \n",
       "0  ['O', 'O', 'O', 'O', 'O', 'O', 'B-geo', 'O', '...  \n",
       "1  ['O', 'O', 'O', 'O', 'O', 'O', 'O', 'O', 'O', ...  \n",
       "2  ['O', 'O', 'O', 'O', 'O', 'O', 'O', 'O', 'O', ...  \n",
       "3  ['O', 'O', 'O', 'O', 'O', 'O', 'O', 'O', 'O', ...  \n",
       "4  ['O', 'O', 'O', 'O', 'O', 'O', 'O', 'O', 'O', ...  "
      ]
     },
     "execution_count": 13,
     "metadata": {},
     "output_type": "execute_result"
    }
   ],
   "source": [
    "ready_data.head()"
   ]
  },
  {
   "cell_type": "code",
   "execution_count": 14,
   "metadata": {
    "execution": {
     "iopub.execute_input": "2022-01-15T16:28:13.728361Z",
     "iopub.status.busy": "2022-01-15T16:28:13.728076Z",
     "iopub.status.idle": "2022-01-15T16:28:13.749368Z",
     "shell.execute_reply": "2022-01-15T16:28:13.748766Z",
     "shell.execute_reply.started": "2022-01-15T16:28:13.728328Z"
    }
   },
   "outputs": [],
   "source": [
    "X = list(ready_data['Sentence'])\n",
    "Y = list(ready_data['Tag'])"
   ]
  },
  {
   "cell_type": "code",
   "execution_count": 15,
   "metadata": {
    "execution": {
     "iopub.execute_input": "2022-01-15T16:28:13.750959Z",
     "iopub.status.busy": "2022-01-15T16:28:13.7505Z",
     "iopub.status.idle": "2022-01-15T16:28:15.630858Z",
     "shell.execute_reply": "2022-01-15T16:28:15.630143Z",
     "shell.execute_reply.started": "2022-01-15T16:28:13.750912Z"
    }
   },
   "outputs": [],
   "source": [
    "from ast import literal_eval\n",
    "Y_ready = []\n",
    "for sen_tags in Y:\n",
    "    Y_ready.append(literal_eval(sen_tags))"
   ]
  },
  {
   "cell_type": "code",
   "execution_count": 16,
   "metadata": {
    "execution": {
     "iopub.execute_input": "2022-01-15T16:28:15.632449Z",
     "iopub.status.busy": "2022-01-15T16:28:15.632208Z",
     "iopub.status.idle": "2022-01-15T16:28:15.638263Z",
     "shell.execute_reply": "2022-01-15T16:28:15.636737Z",
     "shell.execute_reply.started": "2022-01-15T16:28:15.632416Z"
    }
   },
   "outputs": [
    {
     "name": "stdout",
     "output_type": "stream",
     "text": [
      "First three sentences: \n",
      "\n",
      "['Thousands of demonstrators have marched through London to protest the war in Iraq and demand the withdrawal of British troops from that country .', 'Families of soldiers killed in the conflict joined the protesters who carried banners with such slogans as \" Bush Number One Terrorist \" and \" Stop the Bombings . \"', 'They marched from the Houses of Parliament to a rally in Hyde Park .']\n"
     ]
    }
   ],
   "source": [
    "print(\"First three sentences: and its tags \\n\")\n",
    "print(X[:3])\n",
    "print(Y_ready[:3]"
   ]
  },
  {
   "cell_type": "code",
   "execution_count": 17,
   "metadata": {
    "execution": {
     "iopub.execute_input": "2022-01-15T16:28:17.305871Z",
     "iopub.status.busy": "2022-01-15T16:28:17.305371Z",
     "iopub.status.idle": "2022-01-15T16:28:17.31082Z",
     "shell.execute_reply": "2022-01-15T16:28:17.309773Z",
     "shell.execute_reply.started": "2022-01-15T16:28:17.305833Z"
    }
   },
   "outputs": [
    {
     "name": "stdout",
     "output_type": "stream",
     "text": [
      "First three Tags: \n",
      "\n",
      "[['O', 'O', 'O', 'O', 'O', 'O', 'B-geo', 'O', 'O', 'O', 'O', 'O', 'B-geo', 'O', 'O', 'O', 'O', 'O', 'B-gpe', 'O', 'O', 'O', 'O', 'O'], ['O', 'O', 'O', 'O', 'O', 'O', 'O', 'O', 'O', 'O', 'O', 'O', 'O', 'O', 'O', 'O', 'O', 'O', 'B-per', 'O', 'O', 'O', 'O', 'O', 'O', 'O', 'O', 'O', 'O', 'O'], ['O', 'O', 'O', 'O', 'O', 'O', 'O', 'O', 'O', 'O', 'O', 'B-geo', 'I-geo', 'O']]\n"
     ]
    }
   ],
   "source": []
  },
  {
   "cell_type": "markdown",
   "metadata": {},
   "source": [
    "We need to tokenize the sentences by mapping each word to a unique identifier, then we need to pad them because NN need the input sentences to have the same lenght."
   ]
  },
  {
   "cell_type": "code",
   "execution_count": 18,
   "metadata": {
    "execution": {
     "iopub.execute_input": "2022-01-15T16:28:18.521711Z",
     "iopub.status.busy": "2022-01-15T16:28:18.521033Z",
     "iopub.status.idle": "2022-01-15T16:28:19.383639Z",
     "shell.execute_reply": "2022-01-15T16:28:19.382869Z",
     "shell.execute_reply.started": "2022-01-15T16:28:18.521672Z"
    }
   },
   "outputs": [],
   "source": [
    "from tensorflow.keras.preprocessing.text import Tokenizer\n",
    "from tensorflow.keras.preprocessing.sequence import pad_sequences"
   ]
  },
  {
   "cell_type": "code",
   "execution_count": 20,
   "metadata": {
    "execution": {
     "iopub.execute_input": "2022-01-15T16:28:20.761422Z",
     "iopub.status.busy": "2022-01-15T16:28:20.760867Z",
     "iopub.status.idle": "2022-01-15T16:28:22.891782Z",
     "shell.execute_reply": "2022-01-15T16:28:22.891075Z",
     "shell.execute_reply.started": "2022-01-15T16:28:20.761383Z"
    }
   },
   "outputs": [],
   "source": [
    "maxlen = 200 # making the max length of the sentense 200\n",
    "\n",
    "max_words = 40000\n",
    "tokenizer = Tokenizer(num_words=max_words)\n",
    "tokenizer.fit_on_texts(X)\n",
    "sequences = tokenizer.texts_to_sequences(X)"
   ]
  },
  {
   "cell_type": "code",
   "execution_count": 21,
   "metadata": {
    "execution": {
     "iopub.execute_input": "2022-01-15T16:28:22.898546Z",
     "iopub.status.busy": "2022-01-15T16:28:22.896523Z",
     "iopub.status.idle": "2022-01-15T16:28:22.9202Z",
     "shell.execute_reply": "2022-01-15T16:28:22.919531Z",
     "shell.execute_reply.started": "2022-01-15T16:28:22.898505Z"
    }
   },
   "outputs": [
    {
     "name": "stdout",
     "output_type": "stream",
     "text": [
      "Found 27953 unique tokens.\n"
     ]
    }
   ],
   "source": [
    "word_index = tokenizer.word_index\n",
    "print(\"Found {} unique tokens.\".format(len(word_index)))\n",
    "ind2word = dict([(value, key) for (key, value) in word_index.items()])"
   ]
  },
  {
   "cell_type": "code",
   "execution_count": 22,
   "metadata": {
    "execution": {
     "iopub.execute_input": "2022-01-15T16:28:22.92684Z",
     "iopub.status.busy": "2022-01-15T16:28:22.924552Z",
     "iopub.status.idle": "2022-01-15T16:28:22.931689Z",
     "shell.execute_reply": "2022-01-15T16:28:22.931071Z",
     "shell.execute_reply.started": "2022-01-15T16:28:22.926789Z"
    }
   },
   "outputs": [],
   "source": [
    "word2id = word_index"
   ]
  },
  {
   "cell_type": "code",
   "execution_count": 23,
   "metadata": {
    "execution": {
     "iopub.execute_input": "2022-01-15T16:28:24.227475Z",
     "iopub.status.busy": "2022-01-15T16:28:24.226694Z",
     "iopub.status.idle": "2022-01-15T16:28:24.247212Z",
     "shell.execute_reply": "2022-01-15T16:28:24.246437Z",
     "shell.execute_reply.started": "2022-01-15T16:28:24.227428Z"
    }
   },
   "outputs": [],
   "source": [
    "# dict. that map each identifier to its word\n",
    "id2word = {}\n",
    "for key, value in word2id.items():\n",
    "    id2word[value] = key"
   ]
  },
  {
   "cell_type": "code",
   "execution_count": 24,
   "metadata": {
    "execution": {
     "iopub.execute_input": "2022-01-15T16:28:28.495178Z",
     "iopub.status.busy": "2022-01-15T16:28:28.494629Z",
     "iopub.status.idle": "2022-01-15T16:28:28.498879Z",
     "shell.execute_reply": "2022-01-15T16:28:28.498237Z",
     "shell.execute_reply.started": "2022-01-15T16:28:28.495124Z"
    }
   },
   "outputs": [],
   "source": [
    "# dict. that map each tag to its identifier\n",
    "tags2id = {}\n",
    "for i, tag in enumerate(tags):\n",
    "    tags2id[tag] = i"
   ]
  },
  {
   "cell_type": "code",
   "execution_count": 25,
   "metadata": {
    "execution": {
     "iopub.execute_input": "2022-01-15T16:28:28.653939Z",
     "iopub.status.busy": "2022-01-15T16:28:28.653496Z",
     "iopub.status.idle": "2022-01-15T16:28:28.659892Z",
     "shell.execute_reply": "2022-01-15T16:28:28.659136Z",
     "shell.execute_reply.started": "2022-01-15T16:28:28.653898Z"
    }
   },
   "outputs": [
    {
     "data": {
      "text/plain": [
       "{'O': 0,\n",
       " 'B-geo': 1,\n",
       " 'B-gpe': 2,\n",
       " 'B-per': 3,\n",
       " 'I-geo': 4,\n",
       " 'B-org': 5,\n",
       " 'I-org': 6,\n",
       " 'B-tim': 7,\n",
       " 'B-art': 8,\n",
       " 'I-art': 9,\n",
       " 'I-per': 10,\n",
       " 'I-gpe': 11,\n",
       " 'I-tim': 12,\n",
       " 'B-nat': 13,\n",
       " 'B-eve': 14,\n",
       " 'I-eve': 15,\n",
       " 'I-nat': 16}"
      ]
     },
     "execution_count": 25,
     "metadata": {},
     "output_type": "execute_result"
    }
   ],
   "source": [
    "tags2id"
   ]
  },
  {
   "cell_type": "code",
   "execution_count": 26,
   "metadata": {
    "execution": {
     "iopub.execute_input": "2022-01-15T16:28:29.560649Z",
     "iopub.status.busy": "2022-01-15T16:28:29.56033Z",
     "iopub.status.idle": "2022-01-15T16:28:29.565407Z",
     "shell.execute_reply": "2022-01-15T16:28:29.564631Z",
     "shell.execute_reply.started": "2022-01-15T16:28:29.560612Z"
    }
   },
   "outputs": [],
   "source": [
    "# dict. that map each identifier to its tag\n",
    "id2tag = {}\n",
    "for key, value in tags2id.items():\n",
    "    id2tag[value] = key"
   ]
  },
  {
   "cell_type": "code",
   "execution_count": 27,
   "metadata": {
    "execution": {
     "iopub.execute_input": "2022-01-15T16:28:29.75886Z",
     "iopub.status.busy": "2022-01-15T16:28:29.758337Z",
     "iopub.status.idle": "2022-01-15T16:28:29.764454Z",
     "shell.execute_reply": "2022-01-15T16:28:29.763728Z",
     "shell.execute_reply.started": "2022-01-15T16:28:29.758829Z"
    },
    "scrolled": true
   },
   "outputs": [
    {
     "data": {
      "text/plain": [
       "{0: 'O',\n",
       " 1: 'B-geo',\n",
       " 2: 'B-gpe',\n",
       " 3: 'B-per',\n",
       " 4: 'I-geo',\n",
       " 5: 'B-org',\n",
       " 6: 'I-org',\n",
       " 7: 'B-tim',\n",
       " 8: 'B-art',\n",
       " 9: 'I-art',\n",
       " 10: 'I-per',\n",
       " 11: 'I-gpe',\n",
       " 12: 'I-tim',\n",
       " 13: 'B-nat',\n",
       " 14: 'B-eve',\n",
       " 15: 'I-eve',\n",
       " 16: 'I-nat'}"
      ]
     },
     "execution_count": 27,
     "metadata": {},
     "output_type": "execute_result"
    }
   ],
   "source": [
    "id2tag"
   ]
  },
  {
   "cell_type": "code",
   "execution_count": 28,
   "metadata": {
    "execution": {
     "iopub.execute_input": "2022-01-15T16:28:29.959207Z",
     "iopub.status.busy": "2022-01-15T16:28:29.958962Z",
     "iopub.status.idle": "2022-01-15T16:28:29.964995Z",
     "shell.execute_reply": "2022-01-15T16:28:29.964189Z",
     "shell.execute_reply.started": "2022-01-15T16:28:29.959161Z"
    }
   },
   "outputs": [],
   "source": [
    "def preprocess_tags(tags2id, Y_ready):\n",
    "    \n",
    "    Y_preprocessed = []\n",
    "    maxlen = 200\n",
    "    # for each target \n",
    "    for y in Y_ready:\n",
    "        Y_place_holder = []\n",
    "        for tag in y:\n",
    "            Y_place_holder.append(tags2id[tag])\n",
    "        len_new_tag_list = len(Y_place_holder)\n",
    "        num_O_to_add = maxlen - len_new_tag_list\n",
    "        padded_tags = Y_place_holder + ([tags2id['O']] * num_O_to_add)\n",
    "        Y_preprocessed.append(padded_tags)\n",
    "        \n",
    "    return Y_preprocessed"
   ]
  },
  {
   "cell_type": "code",
   "execution_count": 29,
   "metadata": {
    "execution": {
     "iopub.execute_input": "2022-01-15T16:28:30.748993Z",
     "iopub.status.busy": "2022-01-15T16:28:30.748738Z",
     "iopub.status.idle": "2022-01-15T16:28:30.98637Z",
     "shell.execute_reply": "2022-01-15T16:28:30.985312Z",
     "shell.execute_reply.started": "2022-01-15T16:28:30.748964Z"
    }
   },
   "outputs": [],
   "source": [
    "X_preprocessed = pad_sequences(sequences, maxlen=maxlen, padding='post')\n",
    "Y_preprocessed = preprocess_tags(tags2id, Y_ready)"
   ]
  },
  {
   "cell_type": "code",
   "execution_count": 30,
   "metadata": {
    "execution": {
     "iopub.execute_input": "2022-01-15T16:28:31.00146Z",
     "iopub.status.busy": "2022-01-15T16:28:31.001246Z",
     "iopub.status.idle": "2022-01-15T16:28:31.005942Z",
     "shell.execute_reply": "2022-01-15T16:28:31.005271Z",
     "shell.execute_reply.started": "2022-01-15T16:28:31.001433Z"
    }
   },
   "outputs": [
    {
     "name": "stdout",
     "output_type": "stream",
     "text": [
      "[0, 0, 0, 0, 0, 0, 1, 0, 0, 0, 0, 0, 1, 0, 0, 0, 0, 0, 2, 0, 0, 0, 0, 0, 0, 0, 0, 0, 0, 0, 0, 0, 0, 0, 0, 0, 0, 0, 0, 0, 0, 0, 0, 0, 0, 0, 0, 0, 0, 0, 0, 0, 0, 0, 0, 0, 0, 0, 0, 0, 0, 0, 0, 0, 0, 0, 0, 0, 0, 0, 0, 0, 0, 0, 0, 0, 0, 0, 0, 0, 0, 0, 0, 0, 0, 0, 0, 0, 0, 0, 0, 0, 0, 0, 0, 0, 0, 0, 0, 0, 0, 0, 0, 0, 0, 0, 0, 0, 0, 0]\n"
     ]
    }
   ],
   "source": [
    "print(Y_preprocessed[0])"
   ]
  },
  {
   "cell_type": "code",
   "execution_count": 31,
   "metadata": {
    "execution": {
     "iopub.execute_input": "2022-01-15T16:28:31.99478Z",
     "iopub.status.busy": "2022-01-15T16:28:31.994074Z",
     "iopub.status.idle": "2022-01-15T16:28:32.002239Z",
     "shell.execute_reply": "2022-01-15T16:28:32.001446Z",
     "shell.execute_reply.started": "2022-01-15T16:28:31.994742Z"
    }
   },
   "outputs": [
    {
     "name": "stdout",
     "output_type": "stream",
     "text": [
      "['O', 'O', 'O', 'O', 'O', 'O', 'B-geo', 'O', 'O', 'O', 'O', 'O', 'B-geo', 'O', 'O', 'O', 'O', 'O', 'B-gpe', 'O', 'O', 'O', 'O', 'O']\n"
     ]
    }
   ],
   "source": [
    "print(Y_ready[0])"
   ]
  },
  {
   "cell_type": "code",
   "execution_count": 32,
   "metadata": {
    "execution": {
     "iopub.execute_input": "2022-01-15T16:28:33.782947Z",
     "iopub.status.busy": "2022-01-15T16:28:33.782269Z",
     "iopub.status.idle": "2022-01-15T16:28:33.789623Z",
     "shell.execute_reply": "2022-01-15T16:28:33.788713Z",
     "shell.execute_reply.started": "2022-01-15T16:28:33.782893Z"
    }
   },
   "outputs": [
    {
     "name": "stdout",
     "output_type": "stream",
     "text": [
      "The Lenght of training examples: 47959\n",
      "The Lenght of training targets: 47959\n"
     ]
    }
   ],
   "source": [
    "print(\"The Lenght of training examples: {}\".format(len(X_preprocessed)))\n",
    "print(\"The Lenght of training targets: {}\".format(len(Y_preprocessed)))"
   ]
  },
  {
   "cell_type": "code",
   "execution_count": 33,
   "metadata": {
    "execution": {
     "iopub.execute_input": "2022-01-15T16:28:34.065115Z",
     "iopub.status.busy": "2022-01-15T16:28:34.064779Z",
     "iopub.status.idle": "2022-01-15T16:28:35.13735Z",
     "shell.execute_reply": "2022-01-15T16:28:35.136336Z",
     "shell.execute_reply.started": "2022-01-15T16:28:34.065085Z"
    }
   },
   "outputs": [],
   "source": [
    "X_preprocessed = np.asarray(X_preprocessed)\n",
    "Y_preprocessed = np.asarray(Y_preprocessed)"
   ]
  },
  {
   "cell_type": "code",
   "execution_count": 34,
   "metadata": {
    "execution": {
     "iopub.execute_input": "2022-01-15T16:28:35.144045Z",
     "iopub.status.busy": "2022-01-15T16:28:35.141964Z",
     "iopub.status.idle": "2022-01-15T16:28:35.149819Z",
     "shell.execute_reply": "2022-01-15T16:28:35.148844Z",
     "shell.execute_reply.started": "2022-01-15T16:28:35.143994Z"
    }
   },
   "outputs": [],
   "source": [
    "training_samples = 0.7 # 70% of the datat will be used for training \n",
    "validation_samples = 0.15 # 15% of the datat will be used for validation \n",
    "testing_samples = 0.15 # 15% of the datat will be used for testing "
   ]
  },
  {
   "cell_type": "code",
   "execution_count": 35,
   "metadata": {
    "execution": {
     "iopub.execute_input": "2022-01-15T16:28:35.157309Z",
     "iopub.status.busy": "2022-01-15T16:28:35.154689Z",
     "iopub.status.idle": "2022-01-15T16:28:35.163459Z",
     "shell.execute_reply": "2022-01-15T16:28:35.162119Z",
     "shell.execute_reply.started": "2022-01-15T16:28:35.157267Z"
    }
   },
   "outputs": [],
   "source": [
    "index = np.arange(len(Y_preprocessed))"
   ]
  },
  {
   "cell_type": "code",
   "execution_count": 36,
   "metadata": {
    "execution": {
     "iopub.execute_input": "2022-01-15T16:28:35.171633Z",
     "iopub.status.busy": "2022-01-15T16:28:35.170578Z",
     "iopub.status.idle": "2022-01-15T16:28:35.180716Z",
     "shell.execute_reply": "2022-01-15T16:28:35.17984Z",
     "shell.execute_reply.started": "2022-01-15T16:28:35.171592Z"
    }
   },
   "outputs": [],
   "source": [
    "np.random.seed(seed=555)\n",
    "np.random.shuffle(index)"
   ]
  },
  {
   "cell_type": "code",
   "execution_count": 37,
   "metadata": {
    "execution": {
     "iopub.execute_input": "2022-01-15T16:28:35.186473Z",
     "iopub.status.busy": "2022-01-15T16:28:35.185104Z",
     "iopub.status.idle": "2022-01-15T16:28:35.225648Z",
     "shell.execute_reply": "2022-01-15T16:28:35.224798Z",
     "shell.execute_reply.started": "2022-01-15T16:28:35.186428Z"
    }
   },
   "outputs": [],
   "source": [
    "X_preprocessed = X_preprocessed[index]\n",
    "Y_preprocessed = Y_preprocessed[index]"
   ]
  },
  {
   "cell_type": "code",
   "execution_count": 38,
   "metadata": {
    "execution": {
     "iopub.execute_input": "2022-01-15T16:28:35.527725Z",
     "iopub.status.busy": "2022-01-15T16:28:35.527259Z",
     "iopub.status.idle": "2022-01-15T16:28:35.537469Z",
     "shell.execute_reply": "2022-01-15T16:28:35.535711Z",
     "shell.execute_reply.started": "2022-01-15T16:28:35.527688Z"
    }
   },
   "outputs": [
    {
     "name": "stdout",
     "output_type": "stream",
     "text": [
      "Number of training examples: 33571\n",
      "Number of validation examples: 7194\n",
      "Number of testing examples: 7194\n",
      "Total number of examples after shuffling and splitting: 47959\n"
     ]
    }
   ],
   "source": [
    "X_train = X_preprocessed[: int(0.7 * len(X_preprocessed))]\n",
    "print(\"Number of training examples: {}\".format(len(X_train)))\n",
    "\n",
    "X_val = X_preprocessed[int(0.7 * len(X_preprocessed)) : int(0.7 * len(X_preprocessed)) + (int(0.15 * len(X_preprocessed)) + 1)]\n",
    "print(\"Number of validation examples: {}\".format(len(X_val)))\n",
    "X_test = X_preprocessed[int(0.7 * len(X_preprocessed)) + (int(0.15 * len(X_preprocessed)) + 1) : ]\n",
    "print(\"Number of testing examples: {}\".format(len(X_test)))\n",
    "\n",
    "Y_train = Y_preprocessed[: int(0.7 * len(X_preprocessed))]\n",
    "Y_val = Y_preprocessed[int(0.7 * len(X_preprocessed)) : int(0.7 * len(X_preprocessed)) + (int(0.15 * len(X_preprocessed)) + 1)]\n",
    "Y_test = Y_preprocessed[int(0.7 * len(X_preprocessed)) + (int(0.15 * len(X_preprocessed)) + 1) : ]\n",
    "\n",
    "print(\"Total number of examples after shuffling and splitting: {}\".format(len(X_train) + len(X_val) + len(X_test)))"
   ]
  },
  {
   "cell_type": "code",
   "execution_count": 39,
   "metadata": {
    "execution": {
     "iopub.execute_input": "2022-01-15T16:28:37.426614Z",
     "iopub.status.busy": "2022-01-15T16:28:37.426048Z",
     "iopub.status.idle": "2022-01-15T16:28:37.432265Z",
     "shell.execute_reply": "2022-01-15T16:28:37.431596Z",
     "shell.execute_reply.started": "2022-01-15T16:28:37.426574Z"
    }
   },
   "outputs": [
    {
     "data": {
      "text/plain": [
       "array([ 374,   19,    1,  254,   28, 1072,    6,   11, 1201,   59,  412,\n",
       "          0,    0,    0,    0,    0,    0,    0,    0,    0,    0,    0,\n",
       "          0,    0,    0,    0,    0,    0,    0,    0,    0,    0,    0,\n",
       "          0,    0,    0,    0,    0,    0,    0,    0,    0,    0,    0,\n",
       "          0,    0,    0,    0,    0,    0,    0,    0,    0,    0,    0,\n",
       "          0,    0,    0,    0,    0,    0,    0,    0,    0,    0,    0,\n",
       "          0,    0,    0,    0,    0,    0,    0,    0,    0,    0,    0,\n",
       "          0,    0,    0,    0,    0,    0,    0,    0,    0,    0,    0,\n",
       "          0,    0,    0,    0,    0,    0,    0,    0,    0,    0,    0,\n",
       "          0,    0,    0,    0,    0,    0,    0,    0,    0,    0,    0])"
      ]
     },
     "execution_count": 39,
     "metadata": {},
     "output_type": "execute_result"
    }
   ],
   "source": [
    "X_train[1000]"
   ]
  },
  {
   "cell_type": "code",
   "execution_count": 40,
   "metadata": {
    "execution": {
     "iopub.execute_input": "2022-01-15T16:28:37.641071Z",
     "iopub.status.busy": "2022-01-15T16:28:37.640827Z",
     "iopub.status.idle": "2022-01-15T16:28:37.64719Z",
     "shell.execute_reply": "2022-01-15T16:28:37.646309Z",
     "shell.execute_reply.started": "2022-01-15T16:28:37.641042Z"
    }
   },
   "outputs": [
    {
     "data": {
      "text/plain": [
       "array([5, 0, 0, 0, 0, 0, 0, 0, 0, 0, 0, 0, 0, 0, 0, 0, 0, 0, 0, 0, 0, 0,\n",
       "       0, 0, 0, 0, 0, 0, 0, 0, 0, 0, 0, 0, 0, 0, 0, 0, 0, 0, 0, 0, 0, 0,\n",
       "       0, 0, 0, 0, 0, 0, 0, 0, 0, 0, 0, 0, 0, 0, 0, 0, 0, 0, 0, 0, 0, 0,\n",
       "       0, 0, 0, 0, 0, 0, 0, 0, 0, 0, 0, 0, 0, 0, 0, 0, 0, 0, 0, 0, 0, 0,\n",
       "       0, 0, 0, 0, 0, 0, 0, 0, 0, 0, 0, 0, 0, 0, 0, 0, 0, 0, 0, 0, 0, 0])"
      ]
     },
     "execution_count": 40,
     "metadata": {},
     "output_type": "execute_result"
    }
   ],
   "source": [
    "Y_train[1000]"
   ]
  },
  {
   "cell_type": "code",
   "execution_count": 41,
   "metadata": {
    "execution": {
     "iopub.execute_input": "2022-01-15T16:28:37.837546Z",
     "iopub.status.busy": "2022-01-15T16:28:37.837325Z",
     "iopub.status.idle": "2022-01-15T16:28:37.842683Z",
     "shell.execute_reply": "2022-01-15T16:28:37.84193Z",
     "shell.execute_reply.started": "2022-01-15T16:28:37.83752Z"
    }
   },
   "outputs": [
    {
     "data": {
      "text/plain": [
       "'nigeria'"
      ]
     },
     "execution_count": 41,
     "metadata": {},
     "output_type": "execute_result"
    }
   ],
   "source": [
    "id2word[729]"
   ]
  },
  {
   "cell_type": "code",
   "execution_count": 42,
   "metadata": {
    "_kg_hide-output": true,
    "execution": {
     "iopub.execute_input": "2022-01-15T16:28:39.683644Z",
     "iopub.status.busy": "2022-01-15T16:28:39.682944Z",
     "iopub.status.idle": "2022-01-15T16:28:41.985145Z",
     "shell.execute_reply": "2022-01-15T16:28:41.98435Z",
     "shell.execute_reply.started": "2022-01-15T16:28:39.683607Z"
    }
   },
   "outputs": [],
   "source": [
    "train_dataset = tf.data.Dataset.from_tensor_slices((X_train, Y_train))\n",
    "val_dataset = tf.data.Dataset.from_tensor_slices((X_val, Y_val))\n",
    "test_dataset = tf.data.Dataset.from_tensor_slices((X_test, Y_test))"
   ]
  },
  {
   "cell_type": "code",
   "execution_count": 43,
   "metadata": {
    "execution": {
     "iopub.execute_input": "2022-01-15T16:29:10.048431Z",
     "iopub.status.busy": "2022-01-15T16:29:10.047767Z",
     "iopub.status.idle": "2022-01-15T16:29:10.063802Z",
     "shell.execute_reply": "2022-01-15T16:29:10.062899Z",
     "shell.execute_reply.started": "2022-01-15T16:29:10.048383Z"
    }
   },
   "outputs": [],
   "source": [
    "BATCH_SIZE = 132\n",
    "SHUFFLE_BUFFER_SIZE = 132\n",
    "\n",
    "train_dataset = train_dataset.shuffle(SHUFFLE_BUFFER_SIZE).batch(BATCH_SIZE)\n",
    "val_dataset = val_dataset.batch(BATCH_SIZE)\n",
    "test_dataset = test_dataset.batch(BATCH_SIZE)"
   ]
  },
  {
   "cell_type": "code",
   "execution_count": 44,
   "metadata": {
    "execution": {
     "iopub.execute_input": "2022-01-15T16:29:11.034833Z",
     "iopub.status.busy": "2022-01-15T16:29:11.034112Z",
     "iopub.status.idle": "2022-01-15T16:29:12.114376Z",
     "shell.execute_reply": "2022-01-15T16:29:12.113655Z",
     "shell.execute_reply.started": "2022-01-15T16:29:11.034793Z"
    }
   },
   "outputs": [],
   "source": [
    "embedding_dim = 300\n",
    "maxlen = 110\n",
    "max_words = 36000\n",
    "num_tags = len(tags)\n",
    "\n",
    "model = tf.keras.models.Sequential([\n",
    "    tf.keras.layers.Embedding(max_words, embedding_dim, input_length=maxlen),\n",
    "    tf.keras.layers.Bidirectional(tf.keras.layers.LSTM(units=100, activation='tanh', return_sequences=True)),\n",
    "    tf.keras.layers.Bidirectional(tf.keras.layers.LSTM(units=100, activation='tanh', return_sequences=True)),\n",
    "    tf.keras.layers.TimeDistributed(tf.keras.layers.Dense(num_tags, activation='softmax'))\n",
    "])"
   ]
  },
  {
   "cell_type": "code",
   "execution_count": 45,
   "metadata": {
    "execution": {
     "iopub.execute_input": "2022-01-15T16:29:14.912633Z",
     "iopub.status.busy": "2022-01-15T16:29:14.912033Z",
     "iopub.status.idle": "2022-01-15T16:29:14.922574Z",
     "shell.execute_reply": "2022-01-15T16:29:14.921618Z",
     "shell.execute_reply.started": "2022-01-15T16:29:14.912594Z"
    }
   },
   "outputs": [
    {
     "name": "stdout",
     "output_type": "stream",
     "text": [
      "Model: \"sequential\"\n",
      "_________________________________________________________________\n",
      " Layer (type)                Output Shape              Param #   \n",
      "=================================================================\n",
      " embedding (Embedding)       (None, 110, 300)          10800000  \n",
      "                                                                 \n",
      " bidirectional (Bidirectiona  (None, 110, 200)         320800    \n",
      " l)                                                              \n",
      "                                                                 \n",
      " bidirectional_1 (Bidirectio  (None, 110, 200)         240800    \n",
      " nal)                                                            \n",
      "                                                                 \n",
      " time_distributed (TimeDistr  (None, 110, 17)          3417      \n",
      " ibuted)                                                         \n",
      "                                                                 \n",
      "=================================================================\n",
      "Total params: 11,365,017\n",
      "Trainable params: 11,365,017\n",
      "Non-trainable params: 0\n",
      "_________________________________________________________________\n"
     ]
    }
   ],
   "source": [
    "model.summary()"
   ]
  },
  {
   "cell_type": "code",
   "execution_count": 46,
   "metadata": {
    "execution": {
     "iopub.execute_input": "2022-01-15T16:29:15.180942Z",
     "iopub.status.busy": "2022-01-15T16:29:15.180697Z",
     "iopub.status.idle": "2022-01-15T16:29:15.196203Z",
     "shell.execute_reply": "2022-01-15T16:29:15.1954Z",
     "shell.execute_reply.started": "2022-01-15T16:29:15.180914Z"
    }
   },
   "outputs": [],
   "source": [
    "model.compile(loss='sparse_categorical_crossentropy',\n",
    "              optimizer='adam',\n",
    "              metrics=['accuracy'])"
   ]
  },
  {
   "cell_type": "code",
   "execution_count": 47,
   "metadata": {
    "execution": {
     "iopub.execute_input": "2022-01-15T16:29:52.842214Z",
     "iopub.status.busy": "2022-01-15T16:29:52.841931Z",
     "iopub.status.idle": "2022-01-15T16:31:08.974781Z",
     "shell.execute_reply": "2022-01-15T16:31:08.973948Z",
     "shell.execute_reply.started": "2022-01-15T16:29:52.842177Z"
    }
   },
   "outputs": [
    {
     "name": "stdout",
     "output_type": "stream",
     "text": [
      "Epoch 1/2\n",
      "255/255 [==============================] - 561s 2s/step - loss: 0.1855 - accuracy: 0.9661 - val_loss: 0.1112 - val_accuracy: 0.9707\n",
      "Epoch 2/2\n",
      "255/255 [==============================] - 603s 2s/step - loss: 0.0950 - accuracy: 0.9731 - val_loss: 0.0821 - val_accuracy: 0.9756\n"
     ]
    }
   ],
   "source": [
    "history = model.fit(train_dataset,\n",
    "                    validation_data=val_dataset,\n",
    "                    epochs=2)"
   ]
  },
  {
   "cell_type": "code",
   "execution_count": 48,
   "metadata": {
    "execution": {
     "iopub.execute_input": "2022-01-15T16:31:08.976723Z",
     "iopub.status.busy": "2022-01-15T16:31:08.976525Z",
     "iopub.status.idle": "2022-01-15T16:31:09.951793Z",
     "shell.execute_reply": "2022-01-15T16:31:09.951076Z",
     "shell.execute_reply.started": "2022-01-15T16:31:08.976698Z"
    }
   },
   "outputs": [
    {
     "name": "stdout",
     "output_type": "stream",
     "text": [
      "55/55 [==============================] - 21s 384ms/step - loss: 0.0807 - accuracy: 0.9758\n"
     ]
    },
    {
     "data": {
      "text/plain": [
       "[0.08074750751256943, 0.9757980108261108]"
      ]
     },
     "execution_count": 48,
     "metadata": {},
     "output_type": "execute_result"
    }
   ],
   "source": [
    "model.evaluate(test_dataset)"
   ]
  },
  {
   "cell_type": "code",
   "execution_count": 49,
   "metadata": {
    "execution": {
     "iopub.execute_input": "2022-01-15T16:31:09.953301Z",
     "iopub.status.busy": "2022-01-15T16:31:09.953026Z",
     "iopub.status.idle": "2022-01-15T16:31:10.344047Z",
     "shell.execute_reply": "2022-01-15T16:31:10.343396Z",
     "shell.execute_reply.started": "2022-01-15T16:31:09.953262Z"
    }
   },
   "outputs": [
    {
     "data": {
      "image/png": "[encoded data removed]",
      "text/plain": [
       "<Figure size 480x320 with 2 Axes>"
      ]
     },
     "metadata": {
      "needs_background": "light"
     },
     "output_type": "display_data"
    }
   ],
   "source": [
    "acc = history.history['accuracy']\n",
    "val_acc = history.history['val_accuracy']\n",
    "\n",
    "loss = history.history['loss']\n",
    "val_loss = history.history['val_loss']\n",
    "\n",
    "epochs = range(1, len(acc) + 1)\n",
    "\n",
    "fig, ax = plt.subplots(1, 2, constrained_layout=True, figsize=(6, 4), dpi=80)\n",
    "\n",
    "ax[0].plot(epochs, acc, label = \"Training Accuracy\", color='darkblue')\n",
    "ax[0].plot(epochs, val_acc, label = \"Validation Accuracy\", color='darkgreen')\n",
    "ax[0].grid(alpha=0.3)\n",
    "ax[0].title.set_text('Training Vs Validation Accuracy')\n",
    "ax[0].fill_between(epochs, acc, val_acc, color='crimson', alpha=0.3)\n",
    "plt.setp(ax[0], xlabel='Epochs')\n",
    "plt.setp(ax[0], ylabel='Accuracy')\n",
    "\n",
    "\n",
    "ax[1].plot(epochs, loss, label = \"Training Loss\", color='darkblue')\n",
    "ax[1].plot(epochs, val_loss, label = \"Validation Loss\", color='darkgreen')\n",
    "ax[1].grid(alpha=0.3)\n",
    "ax[1].title.set_text('Training Vs Validation Loss')\n",
    "ax[1].fill_between(epochs,loss, val_loss, color='crimson', alpha=0.3)\n",
    "plt.setp(ax[1], xlabel='Epochs')\n",
    "plt.setp(ax[1], ylabel='Loss')\n",
    "\n",
    "plt.show()"
   ]
  },
  {
   "cell_type": "code",
   "execution_count": 50,
   "metadata": {
    "execution": {
     "iopub.execute_input": "2022-01-15T16:31:10.346328Z",
     "iopub.status.busy": "2022-01-15T16:31:10.345915Z",
     "iopub.status.idle": "2022-01-15T16:31:10.353837Z",
     "shell.execute_reply": "2022-01-15T16:31:10.353213Z",
     "shell.execute_reply.started": "2022-01-15T16:31:10.346288Z"
    }
   },
   "outputs": [],
   "source": [
    "def make_prediction(model, preprocessed_sentence, id2word, id2tag):\n",
    "    \n",
    "    #if preprocessed_sentence.shape() != (1, 110):\n",
    "    preprocessed_sentence = preprocessed_sentence.reshape((1, 110))\n",
    "     \n",
    "    # return preprocessed sentence to its orginal form\n",
    "    sentence = preprocessed_sentence[preprocessed_sentence > 0]\n",
    "    word_list = []\n",
    "    for word in list(sentence):\n",
    "        word_list.append(id2word[word])\n",
    "    orginal_sententce = ' '.join(word_list)\n",
    "    \n",
    "    len_orginal_sententce = len(word_list)\n",
    "    \n",
    "    # make prediction\n",
    "    prediction = model.predict(preprocessed_sentence)\n",
    "    prediction = np.argmax(prediction[0], axis=1)\n",
    "    \n",
    "    # return the prediction to its orginal form\n",
    "    prediction = list(prediction)[ : len_orginal_sententce] \n",
    "    \n",
    "    pred_tag_list = []\n",
    "    for tag_id in prediction:\n",
    "        pred_tag_list.append(id2tag[tag_id])\n",
    "    \n",
    "    return orginal_sententce,  pred_tag_list"
   ]
  },
  {
   "cell_type": "code",
   "execution_count": 65,
   "metadata": {
    "execution": {
     "iopub.execute_input": "2022-01-15T16:31:10.355112Z",
     "iopub.status.busy": "2022-01-15T16:31:10.354896Z",
     "iopub.status.idle": "2022-01-15T16:31:11.455519Z",
     "shell.execute_reply": "2022-01-15T16:31:11.454729Z",
     "shell.execute_reply.started": "2022-01-15T16:31:10.355087Z"
    }
   },
   "outputs": [
    {
     "name": "stdout",
     "output_type": "stream",
     "text": [
      "1/1 [==============================] - 0s 19ms/step\n"
     ]
    }
   ],
   "source": [
    "orginal_sententce,  pred_tag_list = make_prediction(model=model,preprocessed_sentence=X_test[7],id2word=id2word,id2tag=id2tag)"
   ]
  },
  {
   "cell_type": "code",
   "execution_count": 66,
   "metadata": {
    "execution": {
     "iopub.execute_input": "2022-01-15T16:31:11.459112Z",
     "iopub.status.busy": "2022-01-15T16:31:11.458094Z",
     "iopub.status.idle": "2022-01-15T16:31:11.46367Z",
     "shell.execute_reply": "2022-01-15T16:31:11.462968Z",
     "shell.execute_reply.started": "2022-01-15T16:31:11.459079Z"
    }
   },
   "outputs": [
    {
     "name": "stdout",
     "output_type": "stream",
     "text": [
      "the ruling party is expected to retain control over the 454 member parliament where it holds 90 percent of the seats\n"
     ]
    }
   ],
   "source": [
    "print(orginal_sententce)"
   ]
  },
  {
   "cell_type": "code",
   "execution_count": 67,
   "metadata": {
    "execution": {
     "iopub.execute_input": "2022-01-15T16:31:11.465376Z",
     "iopub.status.busy": "2022-01-15T16:31:11.464779Z",
     "iopub.status.idle": "2022-01-15T16:31:11.472994Z",
     "shell.execute_reply": "2022-01-15T16:31:11.47223Z",
     "shell.execute_reply.started": "2022-01-15T16:31:11.465333Z"
    }
   },
   "outputs": [
    {
     "name": "stdout",
     "output_type": "stream",
     "text": [
      "['O', 'O', 'O', 'O', 'O', 'O', 'O', 'O', 'O', 'O', 'O', 'O', 'O', 'O', 'O', 'O', 'O', 'O', 'O', 'O', 'O']\n"
     ]
    }
   ],
   "source": [
    "print(pred_tag_list)"
   ]
  },
  {
   "cell_type": "code",
   "execution_count": null,
   "metadata": {},
   "outputs": [],
   "source": []
  }
 ],
 "metadata": {
  "kernelspec": {
   "display_name": "Python 3 (ipykernel)",
   "language": "python",
   "name": "python3"
  },
  "language_info": {
   "codemirror_mode": {
    "name": "ipython",
    "version": 3
   },
   "file_extension": ".py",
   "mimetype": "text/x-python",
   "name": "python",
   "nbconvert_exporter": "python",
   "pygments_lexer": "ipython3",
   "version": "3.9.12"
  }
 },
 "nbformat": 4,
 "nbformat_minor": 4
}
