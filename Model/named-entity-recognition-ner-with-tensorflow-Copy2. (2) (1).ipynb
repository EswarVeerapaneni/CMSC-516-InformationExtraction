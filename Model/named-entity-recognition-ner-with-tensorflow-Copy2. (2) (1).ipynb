{
 "cells": [
  {
   "cell_type": "code",
   "execution_count": null,
   "metadata": {
    "execution": {
     "iopub.execute_input": "2022-01-15T16:28:01.937999Z",
     "iopub.status.busy": "2022-01-15T16:28:01.937479Z",
     "iopub.status.idle": "2022-01-15T16:28:06.525904Z",
     "shell.execute_reply": "2022-01-15T16:28:06.525195Z",
     "shell.execute_reply.started": "2022-01-15T16:28:01.937965Z"
    }
   },
   "outputs": [],
   "source": [
    "import numpy as np\n",
    "import pandas as pd\n",
    "import matplotlib.pyplot as plt\n",
    "import seaborn as sns\n",
    "import tensorflow as tf\n",
    "from tensorflow.keras.preprocessing.text import Tokenizer\n",
    "from tensorflow.keras.preprocessing.sequence import pad_sequences\n",
    "from sklearn.model_selection import train_test_split\n",
    "from ast import literal_eval"
   ]
  },
  {
   "cell_type": "code",
   "execution_count": null,
   "metadata": {},
   "outputs": [],
   "source": [
    "data = pd.read_csv(\"ner_dataset.csv\", encoding= 'unicode_escape')\n",
    "data2 = pd.read_csv(\"ner.csv\", encoding='unicode_escape')"
   ]
  },
  {
   "cell_type": "code",
   "execution_count": null,
   "metadata": {
    "execution": {
     "iopub.execute_input": "2022-01-15T16:28:09.936576Z",
     "iopub.status.busy": "2022-01-15T16:28:09.935837Z",
     "iopub.status.idle": "2022-01-15T16:28:10.023376Z",
     "shell.execute_reply": "2022-01-15T16:28:10.022325Z",
     "shell.execute_reply.started": "2022-01-15T16:28:09.936533Z"
    }
   },
   "outputs": [],
   "source": [
    "tags = data.Tag.unique()"
   ]
  },
  {
   "cell_type": "code",
   "execution_count": null,
   "metadata": {
    "execution": {
     "iopub.execute_input": "2022-01-15T16:28:13.728361Z",
     "iopub.status.busy": "2022-01-15T16:28:13.728076Z",
     "iopub.status.idle": "2022-01-15T16:28:13.749368Z",
     "shell.execute_reply": "2022-01-15T16:28:13.748766Z",
     "shell.execute_reply.started": "2022-01-15T16:28:13.728328Z"
    }
   },
   "outputs": [],
   "source": [
    "X = list(data2['Sentence'])\n",
    "Y = list(data2['Tag'])"
   ]
  },
  {
   "cell_type": "code",
   "execution_count": null,
   "metadata": {
    "execution": {
     "iopub.execute_input": "2022-01-15T16:28:20.761422Z",
     "iopub.status.busy": "2022-01-15T16:28:20.760867Z",
     "iopub.status.idle": "2022-01-15T16:28:22.891782Z",
     "shell.execute_reply": "2022-01-15T16:28:22.891075Z",
     "shell.execute_reply.started": "2022-01-15T16:28:20.761383Z"
    }
   },
   "outputs": [],
   "source": [
    "tokenizer = Tokenizer()\n",
    "tokenizer.fit_on_texts(X)\n",
    "sequences = tokenizer.texts_to_sequences(X)"
   ]
  },
  {
   "cell_type": "code",
   "execution_count": null,
   "metadata": {
    "execution": {
     "iopub.execute_input": "2022-01-15T16:28:22.92684Z",
     "iopub.status.busy": "2022-01-15T16:28:22.924552Z",
     "iopub.status.idle": "2022-01-15T16:28:22.931689Z",
     "shell.execute_reply": "2022-01-15T16:28:22.931071Z",
     "shell.execute_reply.started": "2022-01-15T16:28:22.926789Z"
    }
   },
   "outputs": [],
   "source": [
    "word2id = tokenizer.word_index"
   ]
  },
  {
   "cell_type": "code",
   "execution_count": null,
   "metadata": {},
   "outputs": [],
   "source": [
    "word2id"
   ]
  },
  {
   "cell_type": "code",
   "execution_count": null,
   "metadata": {
    "execution": {
     "iopub.execute_input": "2022-01-15T16:28:24.227475Z",
     "iopub.status.busy": "2022-01-15T16:28:24.226694Z",
     "iopub.status.idle": "2022-01-15T16:28:24.247212Z",
     "shell.execute_reply": "2022-01-15T16:28:24.246437Z",
     "shell.execute_reply.started": "2022-01-15T16:28:24.227428Z"
    }
   },
   "outputs": [],
   "source": [
    "id2word = {}\n",
    "for key, value in word2id.items():\n",
    "    id2word[value] = key"
   ]
  },
  {
   "cell_type": "code",
   "execution_count": null,
   "metadata": {
    "execution": {
     "iopub.execute_input": "2022-01-15T16:28:28.495178Z",
     "iopub.status.busy": "2022-01-15T16:28:28.494629Z",
     "iopub.status.idle": "2022-01-15T16:28:28.498879Z",
     "shell.execute_reply": "2022-01-15T16:28:28.498237Z",
     "shell.execute_reply.started": "2022-01-15T16:28:28.495124Z"
    }
   },
   "outputs": [],
   "source": [
    "tags2id = {}\n",
    "for i, tag in enumerate(tags):\n",
    "    tags2id[tag] = i"
   ]
  },
  {
   "cell_type": "code",
   "execution_count": null,
   "metadata": {
    "execution": {
     "iopub.execute_input": "2022-01-15T16:28:28.653939Z",
     "iopub.status.busy": "2022-01-15T16:28:28.653496Z",
     "iopub.status.idle": "2022-01-15T16:28:28.659892Z",
     "shell.execute_reply": "2022-01-15T16:28:28.659136Z",
     "shell.execute_reply.started": "2022-01-15T16:28:28.653898Z"
    }
   },
   "outputs": [],
   "source": [
    "tags2id"
   ]
  },
  {
   "cell_type": "code",
   "execution_count": null,
   "metadata": {
    "execution": {
     "iopub.execute_input": "2022-01-15T16:28:29.560649Z",
     "iopub.status.busy": "2022-01-15T16:28:29.56033Z",
     "iopub.status.idle": "2022-01-15T16:28:29.565407Z",
     "shell.execute_reply": "2022-01-15T16:28:29.564631Z",
     "shell.execute_reply.started": "2022-01-15T16:28:29.560612Z"
    }
   },
   "outputs": [],
   "source": [
    "id2tag = {}\n",
    "for key, value in tags2id.items():\n",
    "    id2tag[value] = key"
   ]
  },
  {
   "cell_type": "code",
   "execution_count": null,
   "metadata": {
    "execution": {
     "iopub.execute_input": "2022-01-15T16:28:29.75886Z",
     "iopub.status.busy": "2022-01-15T16:28:29.758337Z",
     "iopub.status.idle": "2022-01-15T16:28:29.764454Z",
     "shell.execute_reply": "2022-01-15T16:28:29.763728Z",
     "shell.execute_reply.started": "2022-01-15T16:28:29.758829Z"
    },
    "scrolled": true
   },
   "outputs": [],
   "source": [
    "id2tag"
   ]
  },
  {
   "cell_type": "code",
   "execution_count": null,
   "metadata": {
    "execution": {
     "iopub.execute_input": "2022-01-15T16:28:29.959207Z",
     "iopub.status.busy": "2022-01-15T16:28:29.958962Z",
     "iopub.status.idle": "2022-01-15T16:28:29.964995Z",
     "shell.execute_reply": "2022-01-15T16:28:29.964189Z",
     "shell.execute_reply.started": "2022-01-15T16:28:29.959161Z"
    }
   },
   "outputs": [],
   "source": [
    "getTags = []\n",
    "for sentenses in Y:\n",
    "    getTags.append(literal_eval(sentenses))\n",
    "allTags = []\n",
    "for y in getTags:\n",
    "    eachTag = []\n",
    "    for tag in y:\n",
    "        eachTag.append(tags2id[tag]) \n",
    "    padded_tags = eachTag + ([tags2id['O']] * (200 - len(eachTag)))\n",
    "    allTags.append(padded_tags)\n",
    "allTags"
   ]
  },
  {
   "cell_type": "code",
   "execution_count": null,
   "metadata": {
    "execution": {
     "iopub.execute_input": "2022-01-15T16:28:30.748993Z",
     "iopub.status.busy": "2022-01-15T16:28:30.748738Z",
     "iopub.status.idle": "2022-01-15T16:28:30.98637Z",
     "shell.execute_reply": "2022-01-15T16:28:30.985312Z",
     "shell.execute_reply.started": "2022-01-15T16:28:30.748964Z"
    }
   },
   "outputs": [],
   "source": [
    "allIds = pad_sequences(sequences, maxlen=200, padding='post')"
   ]
  },
  {
   "cell_type": "code",
   "execution_count": null,
   "metadata": {
    "execution": {
     "iopub.execute_input": "2022-01-15T16:28:35.157309Z",
     "iopub.status.busy": "2022-01-15T16:28:35.154689Z",
     "iopub.status.idle": "2022-01-15T16:28:35.163459Z",
     "shell.execute_reply": "2022-01-15T16:28:35.162119Z",
     "shell.execute_reply.started": "2022-01-15T16:28:35.157267Z"
    }
   },
   "outputs": [],
   "source": [
    "allIds = np.asarray(allIds)\n",
    "allTags = np.asarray(allTags)"
   ]
  },
  {
   "cell_type": "code",
   "execution_count": null,
   "metadata": {},
   "outputs": [],
   "source": [
    "X_train, X_rem, y_train, y_rem = train_test_split(allIds,allTags, train_size=0.70)\n",
    "test_size = 0.5\n",
    "X_valid, X_test, y_valid, y_test = train_test_split(X_rem,y_rem, test_size=0.5)\n",
    "\n",
    "\n",
    "train = tf.data.Dataset.from_tensor_slices((X_train, y_train))\n",
    "train = train.shuffle(255).batch(255)\n",
    "validation = tf.data.Dataset.from_tensor_slices((X_valid, y_valid))\n",
    "validation = validation.batch(255)\n",
    "test = tf.data.Dataset.from_tensor_slices((X_test, y_test))\n",
    "test = test.batch(255)"
   ]
  },
  {
   "cell_type": "code",
   "execution_count": null,
   "metadata": {
    "execution": {
     "iopub.execute_input": "2022-01-15T16:29:11.034833Z",
     "iopub.status.busy": "2022-01-15T16:29:11.034112Z",
     "iopub.status.idle": "2022-01-15T16:29:12.114376Z",
     "shell.execute_reply": "2022-01-15T16:29:12.113655Z",
     "shell.execute_reply.started": "2022-01-15T16:29:11.034793Z"
    }
   },
   "outputs": [],
   "source": [
    "model = tf.keras.models.Sequential([\n",
    "    tf.keras.layers.Embedding(40000, 200),\n",
    "    tf.keras.layers.Bidirectional(tf.keras.layers.LSTM(units=100, activation='tanh', return_sequences=True)),\n",
    "    tf.keras.layers.Bidirectional(tf.keras.layers.LSTM(units=100, activation='softmax', return_sequences=True)),\n",
    "    tf.keras.layers.TimeDistributed(tf.keras.layers.Dense(len(tags), activation='softmax'))\n",
    "])\n",
    "model.summary()\n",
    "model.compile(loss='sparse_categorical_crossentropy',optimizer='adam',metrics=['accuracy'])\n",
    "model.fit(train,validation_data=validation,epochs=15)\n",
    "model.evaluate(test)"
   ]
  },
  {
   "cell_type": "code",
   "execution_count": null,
   "metadata": {
    "execution": {
     "iopub.execute_input": "2022-01-15T16:31:10.346328Z",
     "iopub.status.busy": "2022-01-15T16:31:10.345915Z",
     "iopub.status.idle": "2022-01-15T16:31:10.353837Z",
     "shell.execute_reply": "2022-01-15T16:31:10.353213Z",
     "shell.execute_reply.started": "2022-01-15T16:31:10.346288Z"
    }
   },
   "outputs": [],
   "source": [
    "ShuffledS=  X_test[0]\n",
    "ShuffledS = ShuffledS.reshape((1, 200))\n",
    "words = []\n",
    "for word in ShuffledS[ShuffledS > 0].tolist():\n",
    "    words.append(id2word[word])\n",
    "raw = ' '.join(words)\n",
    "print(raw)  \n",
    "prediction = model.predict(ShuffledS)\n",
    "prediction = np.argmax(prediction[0], axis=1)\n",
    "prediction = prediction.tolist()[ : len(words)] \n",
    "PredictTags = []\n",
    "for tag_id in prediction:\n",
    "    PredictTags.append(id2tag[tag_id])"
   ]
  },
  {
   "cell_type": "code",
   "execution_count": null,
   "metadata": {},
   "outputs": [],
   "source": []
  },
  {
   "cell_type": "code",
   "execution_count": null,
   "metadata": {},
   "outputs": [],
   "source": []
  }
 ],
 "metadata": {
  "kernelspec": {
   "display_name": "Python 3 (ipykernel)",
   "language": "python",
   "name": "python3"
  },
  "language_info": {
   "codemirror_mode": {
    "name": "ipython",
    "version": 3
   },
   "file_extension": ".py",
   "mimetype": "text/x-python",
   "name": "python",
   "nbconvert_exporter": "python",
   "pygments_lexer": "ipython3",
   "version": "3.9.12"
  }
 },
 "nbformat": 4,
 "nbformat_minor": 4
}
